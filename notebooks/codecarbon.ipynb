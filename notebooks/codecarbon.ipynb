{
 "cells": [
  {
   "cell_type": "code",
   "execution_count": 1,
   "id": "a299368f-736a-45f6-a26d-889afc5a8192",
   "metadata": {},
   "outputs": [],
   "source": [
    "from codecarbon import EmissionsTracker\n",
    "from time import sleep\n",
    "import timeit"
   ]
  },
  {
   "cell_type": "code",
   "execution_count": 2,
   "id": "c804bc0c-3185-46f5-a82d-fa1f3912c8ca",
   "metadata": {},
   "outputs": [
    {
     "name": "stderr",
     "output_type": "stream",
     "text": [
      "[codecarbon INFO @ 21:05:21] [setup] RAM Tracking...\n",
      "[codecarbon INFO @ 21:05:21] [setup] GPU Tracking...\n",
      "[codecarbon INFO @ 21:05:21] No GPU found.\n",
      "[codecarbon INFO @ 21:05:21] [setup] CPU Tracking...\n",
      "[codecarbon ERROR @ 21:05:21] Unable to read Intel RAPL files for CPU power, we will use a constant for your CPU power. Please view https://github.com/mlco2/codecarbon/issues/244 for workarounds : [Errno 13] Permission denied: '/sys/class/powercap/intel-rapl/intel-rapl:0/energy_uj'\n",
      "[codecarbon INFO @ 21:05:21] Tracking Intel CPU via RAPL interface\n",
      "[codecarbon ERROR @ 21:05:23] Unable to read Intel RAPL files for CPU power, we will use a constant for your CPU power. Please view https://github.com/mlco2/codecarbon/issues/244 for workarounds : [Errno 13] Permission denied: '/sys/class/powercap/intel-rapl/intel-rapl:0/energy_uj'\n",
      "[codecarbon INFO @ 21:05:23] >>> Tracker's metadata:\n",
      "[codecarbon INFO @ 21:05:23]   Platform system: Linux-5.15.35-2-pve-x86_64-with-glibc2.31\n",
      "[codecarbon INFO @ 21:05:23]   Python version: 3.9.5\n",
      "[codecarbon INFO @ 21:05:23]   Available RAM : 29.297 GB\n",
      "[codecarbon INFO @ 21:05:23]   CPU count: 6\n",
      "[codecarbon INFO @ 21:05:23]   CPU model: Intel(R) Xeon(R) CPU E3-1240 v6 @ 3.70GHz\n",
      "[codecarbon INFO @ 21:05:23]   GPU count: None\n",
      "[codecarbon INFO @ 21:05:23]   GPU model: None\n"
     ]
    }
   ],
   "source": [
    "tracker = EmissionsTracker()\n",
    "tracker.start()"
   ]
  },
  {
   "cell_type": "code",
   "execution_count": 3,
   "id": "c6b536eb-1f46-4e89-9a84-7cd8ea7f39ac",
   "metadata": {},
   "outputs": [],
   "source": [
    "t1 = timeit.timeit(stmt='[random.randint(0, 1000) for r in range(10000)]', \n",
    "              setup='import random', \n",
    "              number=1000\n",
    "             )"
   ]
  },
  {
   "cell_type": "code",
   "execution_count": 4,
   "id": "17ba2bd2-d045-4095-a86b-0e515ba6228e",
   "metadata": {},
   "outputs": [
    {
     "name": "stderr",
     "output_type": "stream",
     "text": [
      "[codecarbon INFO @ 21:05:35] Energy consumed for RAM : 0.000030 kWh. RAM Power : 10.986328125 W\n",
      "[codecarbon INFO @ 21:05:35] Energy consumed for all CPUs : 0.000000 kWh. All CPUs Power : 0.0 W\n",
      "[codecarbon INFO @ 21:05:35] 0.000030 kWh of electricity used since the begining.\n"
     ]
    },
    {
     "name": "stdout",
     "output_type": "stream",
     "text": [
      "Emission of the run 1.6380519336962607e-06 in XXX unit\n"
     ]
    },
    {
     "data": {
      "text/plain": [
       "EmissionsData(timestamp='2023-02-10T21:05:35', project_name='codecarbon', run_id='792a34ed-7782-4232-a7f1-299f04da5e6e', duration=9.76309871673584, emissions=1.6380519336962607e-06, emissions_rate=0.0001677799212342617, cpu_power=0.0, gpu_power=0.0, ram_power=10.986328125, cpu_energy=0, gpu_energy=0, ram_energy=2.9782762430841105e-05, energy_consumed=2.9782762430841105e-05, country_name='France', country_iso_code='FRA', region='île-de-france', cloud_provider='', cloud_region='', os='Linux-5.15.35-2-pve-x86_64-with-glibc2.31', python_version='3.9.5', cpu_count=6, cpu_model='Intel(R) Xeon(R) CPU E3-1240 v6 @ 3.70GHz', gpu_count=None, gpu_model=None, longitude=2.4075, latitude=48.8323, ram_total_size=29.296875, tracking_mode='machine', on_cloud='N')"
      ]
     },
     "execution_count": 4,
     "metadata": {},
     "output_type": "execute_result"
    }
   ],
   "source": [
    "emissions = tracker.stop()\n",
    "print(f\"Emission of the run {emissions} in XXX unit\")\n",
    "tracker.final_emissions_data"
   ]
  },
  {
   "cell_type": "code",
   "execution_count": 5,
   "id": "49833c84-6f3f-4d52-99e8-1166986592ea",
   "metadata": {},
   "outputs": [],
   "source": [
    "sleep(10)"
   ]
  },
  {
   "cell_type": "code",
   "execution_count": 6,
   "id": "4fe5ea95-8554-456f-aae3-4fd3ef01d102",
   "metadata": {},
   "outputs": [
    {
     "name": "stderr",
     "output_type": "stream",
     "text": [
      "[codecarbon INFO @ 21:05:46] Energy consumed for RAM : 0.000060 kWh. RAM Power : 10.986328125 W\n",
      "[codecarbon INFO @ 21:05:46] Energy consumed for all CPUs : 0.000000 kWh. All CPUs Power : 0.0 W\n",
      "[codecarbon INFO @ 21:05:46] 0.000060 kWh of electricity used since the begining.\n"
     ]
    },
    {
     "name": "stdout",
     "output_type": "stream",
     "text": [
      "Emission of the run 3.322356042190222e-06 in XXX unit\n"
     ]
    },
    {
     "data": {
      "text/plain": [
       "EmissionsData(timestamp='2023-02-10T21:05:46', project_name='codecarbon', run_id='792a34ed-7782-4232-a7f1-299f04da5e6e', duration=19.801576852798462, emissions=3.322356042190222e-06, emissions_rate=0.00016778239767913683, cpu_power=0.0, gpu_power=0.0, ram_power=10.986328125, cpu_energy=0, gpu_energy=0, ram_energy=6.0406473494367674e-05, energy_consumed=6.0406473494367674e-05, country_name='France', country_iso_code='FRA', region='île-de-france', cloud_provider='', cloud_region='', os='Linux-5.15.35-2-pve-x86_64-with-glibc2.31', python_version='3.9.5', cpu_count=6, cpu_model='Intel(R) Xeon(R) CPU E3-1240 v6 @ 3.70GHz', gpu_count=None, gpu_model=None, longitude=2.4075, latitude=48.8323, ram_total_size=29.296875, tracking_mode='machine', on_cloud='N')"
      ]
     },
     "execution_count": 6,
     "metadata": {},
     "output_type": "execute_result"
    }
   ],
   "source": [
    "emissions = tracker.stop()\n",
    "print(f\"Emission of the run {emissions} in XXX unit\")\n",
    "tracker.final_emissions_data"
   ]
  }
 ],
 "metadata": {
  "kernelspec": {
   "display_name": "python-dash-template",
   "language": "python",
   "name": "python-dash-template"
  },
  "language_info": {
   "codemirror_mode": {
    "name": "ipython",
    "version": 3
   },
   "file_extension": ".py",
   "mimetype": "text/x-python",
   "name": "python",
   "nbconvert_exporter": "python",
   "pygments_lexer": "ipython3",
   "version": "3.9.5"
  }
 },
 "nbformat": 4,
 "nbformat_minor": 5
}

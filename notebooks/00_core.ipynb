{
 "cells": [
  {
   "cell_type": "markdown",
   "metadata": {},
   "source": [
    "# core\n",
    "\n",
    "> Fill in a module description here"
   ]
  },
  {
   "cell_type": "code",
   "execution_count": null,
   "metadata": {},
   "outputs": [],
   "source": [
    "#| default_exp core"
   ]
  },
  {
   "cell_type": "code",
   "execution_count": null,
   "metadata": {},
   "outputs": [],
   "source": [
    "#| hide\n",
    "from nbdev.showdoc import *"
   ]
  },
  {
   "cell_type": "code",
   "execution_count": 2,
   "metadata": {},
   "outputs": [
    {
     "ename": "ModuleNotFoundError",
     "evalue": "No module named 'plotly'",
     "output_type": "error",
     "traceback": [
      "\u001b[0;31m---------------------------------------------------------------------------\u001b[0m",
      "\u001b[0;31mModuleNotFoundError\u001b[0m                       Traceback (most recent call last)",
      "Cell \u001b[0;32mIn[2], line 3\u001b[0m\n\u001b[1;32m      1\u001b[0m \u001b[39m#| export\u001b[39;00m\n\u001b[1;32m      2\u001b[0m \u001b[39mimport\u001b[39;00m \u001b[39mpandas\u001b[39;00m \u001b[39mas\u001b[39;00m \u001b[39mpd\u001b[39;00m\n\u001b[0;32m----> 3\u001b[0m \u001b[39mimport\u001b[39;00m \u001b[39mplotly\u001b[39;00m\u001b[39m.\u001b[39;00m\u001b[39mexpress\u001b[39;00m \u001b[39mas\u001b[39;00m \u001b[39mpx\u001b[39;00m\n\u001b[1;32m      4\u001b[0m \u001b[39mimport\u001b[39;00m \u001b[39mplotly\u001b[39;00m\u001b[39m.\u001b[39;00m\u001b[39mgraph_objects\u001b[39;00m \u001b[39mas\u001b[39;00m \u001b[39mgo\u001b[39;00m\n",
      "\u001b[0;31mModuleNotFoundError\u001b[0m: No module named 'plotly'"
     ]
    }
   ],
   "source": [
    "#| export\n",
    "import pandas as pd\n",
    "import plotly.express as px\n",
    "import plotly.graph_objects as go"
   ]
  },
  {
   "cell_type": "code",
   "execution_count": 3,
   "metadata": {},
   "outputs": [
    {
     "ename": "NameError",
     "evalue": "name 'requests' is not defined",
     "output_type": "error",
     "traceback": [
      "\u001b[0;31m---------------------------------------------------------------------------\u001b[0m",
      "\u001b[0;31mNameError\u001b[0m                                 Traceback (most recent call last)",
      "Cell \u001b[0;32mIn[3], line 10\u001b[0m\n\u001b[1;32m      7\u001b[0m project_id \u001b[39m=\u001b[39m \u001b[39m\"\u001b[39m\u001b[39m225904ca-f741-477c-83f5-d61587d6286c\u001b[39m\u001b[39m\"\u001b[39m \u001b[39m# LexImpact\u001b[39;00m\n\u001b[1;32m      8\u001b[0m \u001b[39m# project_id = \"a346e7b1-d1c6-4f08-91e5-2fb1da5f2cfa\" # OpenFoodFact\u001b[39;00m\n\u001b[1;32m      9\u001b[0m \u001b[39m# project_id = \"5ff9a6f1-b8f7-43ae-b17f-1f85ee1b2dde\"  # Code carbon dev team\u001b[39;00m\n\u001b[0;32m---> 10\u001b[0m r_xp \u001b[39m=\u001b[39m requests\u001b[39m.\u001b[39mget(url\u001b[39m=\u001b[39mURL \u001b[39m+\u001b[39m \u001b[39m\"\u001b[39m\u001b[39m/experiments/\u001b[39m\u001b[39m\"\u001b[39m \u001b[39m+\u001b[39m project_id \u001b[39m+\u001b[39m \u001b[39m\"\u001b[39m\u001b[39m/sums/\u001b[39m\u001b[39m\"\u001b[39m, timeout\u001b[39m=\u001b[39m\u001b[39m2\u001b[39m)\n\u001b[1;32m     11\u001b[0m \u001b[39massert\u001b[39;00m r_xp\u001b[39m.\u001b[39mstatus_code \u001b[39m==\u001b[39m \u001b[39m200\u001b[39m\n\u001b[1;32m     12\u001b[0m df_total \u001b[39m=\u001b[39m pd\u001b[39m.\u001b[39mDataFrame(r_xp\u001b[39m.\u001b[39mjson())\n",
      "\u001b[0;31mNameError\u001b[0m: name 'requests' is not defined"
     ]
    }
   ],
   "source": [
    "#| hide\n",
    "# \"project_id\": \"225904ca-f741-477c-83f5-d61587d6286c\",\n",
    "# https://api.codecarbon.io/experiments/225904ca-f741-477c-83f5-d61587d6286c/sums/?token=jessica\n",
    "URL = \"https://api.codecarbon.io\"\n",
    "#https://api.codecarbon.io/experiments/a346e7b1-d1c6-4f08-91e5-2fb1da5f2cfa/sums/\n",
    "\n",
    "project_id = \"225904ca-f741-477c-83f5-d61587d6286c\" # LexImpact\n",
    "# project_id = \"a346e7b1-d1c6-4f08-91e5-2fb1da5f2cfa\" # OpenFoodFact\n",
    "# project_id = \"5ff9a6f1-b8f7-43ae-b17f-1f85ee1b2dde\"  # Code carbon dev team\n",
    "r_xp = requests.get(url=URL + \"/experiments/\" + project_id + \"/sums/\", timeout=2)\n",
    "assert r_xp.status_code == 200\n",
    "df_total = pd.DataFrame(r_xp.json())\n",
    "df_total"
   ]
  },
  {
   "cell_type": "code",
   "execution_count": null,
   "metadata": {},
   "outputs": [],
   "source": [
    "#| export\n",
    "def foo(): pass"
   ]
  },
  {
   "cell_type": "code",
   "execution_count": null,
   "metadata": {},
   "outputs": [],
   "source": [
    "#| hide\n",
    "import nbdev; nbdev.nbdev_export()"
   ]
  }
 ],
 "metadata": {
  "kernelspec": {
   "display_name": "Python 3",
   "language": "python",
   "name": "python3"
  },
  "language_info": {
   "codemirror_mode": {
    "name": "ipython",
    "version": 3
   },
   "file_extension": ".py",
   "mimetype": "text/x-python",
   "name": "python",
   "nbconvert_exporter": "python",
   "pygments_lexer": "ipython3",
   "version": "3.9.9"
  },
  "vscode": {
   "interpreter": {
    "hash": "91592e5b1d5a7159a56a063210c255b50c4d02aa13e8977831b2ddb739028ea5"
   }
  }
 },
 "nbformat": 4,
 "nbformat_minor": 4
}

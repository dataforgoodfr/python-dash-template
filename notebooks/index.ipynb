{
 "cells": [
  {
   "cell_type": "code",
   "execution_count": null,
   "metadata": {},
   "outputs": [],
   "source": [
    "#| hide\n",
    "from {{lib_path}}.core import *"
   ]
  },
  {
   "cell_type": "markdown",
   "metadata": {},
   "source": [
    "This file will become your README and also the index of your documentation."
   ]
  },
  {
   "cell_type": "markdown",
   "metadata": {},
   "source": [
    "# {{repo}}\n",
    "\n",
    "> {{description}}"
   ]
  },
  {
   "attachments": {},
   "cell_type": "markdown",
   "metadata": {},
   "source": [
    "# Contributing"
   ]
  },
  {
   "attachments": {},
   "cell_type": "markdown",
   "metadata": {},
   "source": [
    "## Utiliser Poetry\n",
    "\n",
    "[Installer Poetry](https://python-poetry.org/docs/):\n",
    "```\n",
    "curl -sSL https://install.python-poetry.org | python3 -\n",
    "```\n",
    "\n",
    "Installer les dépendances:\n",
    "```\n",
    "poetry install\n",
    "```\n",
    "\n",
    "Ajouter une dépendance:\n",
    "```\n",
    "poetry add pandas\n",
    "```\n",
    "\n",
    "Mettre à jour les dépendances:\n",
    "```\n",
    "poetry update\n",
    "```"
   ]
  },
  {
   "attachments": {},
   "cell_type": "markdown",
   "metadata": {},
   "source": [
    "## Connecter l'environnement à Jupyter\n",
    "\n",
    "```\n",
    "poetry run python -m ipykernel install --name python-dash-template --user\n",
    "```"
   ]
  },
  {
   "attachments": {},
   "cell_type": "markdown",
   "metadata": {},
   "source": [
    "## Générer la doc du projet\n",
    "\n",
    "```\n",
    "poetry run nbdev_docs\n",
    "```"
   ]
  },
  {
   "attachments": {},
   "cell_type": "markdown",
   "metadata": {},
   "source": [
    "## Générer le module Python de votre code\n",
    "\n",
    "```\n",
    "poetry run nbdev docs\n",
    "```"
   ]
  },
  {
   "attachments": {},
   "cell_type": "markdown",
   "metadata": {},
   "source": [
    "## Tester avec Docker\n",
    "```\n",
    "docker run .\n",
    "```"
   ]
  },
  {
   "cell_type": "markdown",
   "metadata": {},
   "source": [
    "## Install"
   ]
  },
  {
   "cell_type": "markdown",
   "metadata": {},
   "source": [
    "```sh\n",
    "pip install {{lib_path}}\n",
    "```"
   ]
  },
  {
   "cell_type": "markdown",
   "metadata": {},
   "source": [
    "## How to use"
   ]
  },
  {
   "cell_type": "markdown",
   "metadata": {},
   "source": [
    "Fill me in please! Don't forget code examples:"
   ]
  },
  {
   "cell_type": "code",
   "execution_count": null,
   "metadata": {},
   "outputs": [
    {
     "data": {
      "text/plain": [
       "2"
      ]
     },
     "execution_count": null,
     "metadata": {},
     "output_type": "execute_result"
    }
   ],
   "source": [
    "1+1"
   ]
  },
  {
   "cell_type": "code",
   "execution_count": null,
   "metadata": {},
   "outputs": [],
   "source": []
  }
 ],
 "metadata": {
  "kernelspec": {
   "display_name": "Python 3",
   "language": "python",
   "name": "python3"
  },
  "language_info": {
   "name": "python",
   "version": "3.9.9 (main, Jul 14 2022, 09:23:51) \n[GCC 11.2.0]"
  },
  "vscode": {
   "interpreter": {
    "hash": "91592e5b1d5a7159a56a063210c255b50c4d02aa13e8977831b2ddb739028ea5"
   }
  }
 },
 "nbformat": 4,
 "nbformat_minor": 4
}
